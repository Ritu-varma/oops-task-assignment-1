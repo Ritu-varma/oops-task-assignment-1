{
 "cells": [
  {
   "cell_type": "code",
   "execution_count": null,
   "id": "9b8e2f3c-eacf-42d4-904a-5e98c2d7f890",
   "metadata": {},
   "outputs": [],
   "source": [
    "Q1"
   ]
  },
  {
   "cell_type": "code",
   "execution_count": 7,
   "id": "12d9b77b-ff93-4f96-a01f-04d8e5674174",
   "metadata": {},
   "outputs": [],
   "source": [
    "class vehicle:\n",
    "    \n",
    "    def __init__(self, name_of_vehicle, max_speed, average_of_vehicle):\n",
    "        self.name_of_vehicle =  name_of_vehicle\n",
    "        self.max_speed = max_speed\n",
    "        self.average_of_vehicle = average_of_vehicle\n",
    "        \n",
    "    "
   ]
  },
  {
   "cell_type": "code",
   "execution_count": 8,
   "id": "6ab675e9-eb9d-4d3f-94e2-ef0074e99c2d",
   "metadata": {},
   "outputs": [
    {
     "name": "stdout",
     "output_type": "stream",
     "text": [
      "Name: Car\n",
      "Max Speed: 200 km/h\n",
      "Average Speed: 30 km/h\n"
     ]
    }
   ],
   "source": [
    "car = vehicle(\"Car\", 200, 30)\n",
    "print(f\"Name: {car.name_of_vehicle}\")\n",
    "print(f\"Max Speed: {car.max_speed} km/h\")\n",
    "print(f\"Average Speed: {car.average_of_vehicle} km/h\")"
   ]
  },
  {
   "cell_type": "code",
   "execution_count": null,
   "id": "57e7f31f-2a76-4a5a-b808-9ed275ccf797",
   "metadata": {},
   "outputs": [],
   "source": [
    "Q2"
   ]
  },
  {
   "cell_type": "code",
   "execution_count": 9,
   "id": "6872c7b2-1b62-4b52-a0ff-bb45df5a4952",
   "metadata": {},
   "outputs": [],
   "source": [
    "class vehicle:\n",
    "    def __init__(self, name_of_vehicle, max_speed, average_of_vehicle):\n",
    "        self.name_of_vehicle = name_of_vehicle\n",
    "        self.max_speed = max_speed\n",
    "        self.average_of_vehicle = average_of_vehicle\n"
   ]
  },
  {
   "cell_type": "code",
   "execution_count": 10,
   "id": "3f96c5f4-74bb-484d-a24d-aaa943ed397e",
   "metadata": {},
   "outputs": [],
   "source": [
    "class Car(Vehicle):\n",
    "    def seating_capacity(self, capacity):\n",
    "        return f\"{self.name_of_vehicle} has a seating capacity of {capacity} people\""
   ]
  },
  {
   "cell_type": "code",
   "execution_count": 11,
   "id": "ea1afd17-1ae0-4d60-b443-4ad86078c205",
   "metadata": {},
   "outputs": [
    {
     "name": "stdout",
     "output_type": "stream",
     "text": [
      "Car has a seating capacity of 5 people\n"
     ]
    }
   ],
   "source": [
    "car = Car(\"Car\", 200, 30)\n",
    "print(car.seating_capacity(5))"
   ]
  },
  {
   "cell_type": "code",
   "execution_count": null,
   "id": "bb506b03-f5bc-445b-b55c-3abe58cf8b84",
   "metadata": {},
   "outputs": [],
   "source": [
    "Q3"
   ]
  },
  {
   "cell_type": "code",
   "execution_count": null,
   "id": "9c16c172-1a2a-404b-92af-597ad2328dd9",
   "metadata": {},
   "outputs": [],
   "source": [
    "When a class is derived from more than one base class"
   ]
  },
  {
   "cell_type": "code",
   "execution_count": 13,
   "id": "abd8c268-ef11-4884-bb8a-b1aab6e793c3",
   "metadata": {},
   "outputs": [],
   "source": [
    "class Vehicle:\n",
    "    def __init__(self, name, max_speed):\n",
    "        self.name = name\n",
    "        self.max_speed = max_speed\n",
    "\n",
    "    def get_info(self):\n",
    "        return f\"{self.name} - Max Speed: {self.max_speed}\"\n",
    "\n",
    "class Electric:\n",
    "    def __init__(self, battery_capacity):\n",
    "        self.battery_capacity = battery_capacity\n",
    "\n",
    "    def electric_info(self):\n",
    "        return f\"Battery Capacity: {self.battery_capacity} kWh\"\n",
    "\n",
    "class ElectricCar(Vehicle, Electric):\n",
    "    def __init__(self, name, max_speed, battery_capacity):\n",
    "        Vehicle.__init__(self, name, max_speed)\n",
    "        Electric.__init__(self, battery_capacity)\n",
    "\n",
    "    def get_info(self):\n",
    "        return f\"{super().get_info()} - {self.electric_info()}\"\n"
   ]
  },
  {
   "cell_type": "code",
   "execution_count": 14,
   "id": "95a409b5-d720-4834-8ec8-fa4ee48a0577",
   "metadata": {},
   "outputs": [
    {
     "name": "stdout",
     "output_type": "stream",
     "text": [
      "Tesla - Max Speed: 250 - Battery Capacity: 75 kWh\n"
     ]
    }
   ],
   "source": [
    "electric_car = ElectricCar(\"Tesla\", 250, 75)\n",
    "print(electric_car.get_info())\n"
   ]
  },
  {
   "cell_type": "code",
   "execution_count": null,
   "id": "b3f2c2c3-149f-4706-9057-aa6fb9520a9f",
   "metadata": {},
   "outputs": [],
   "source": [
    "Q4"
   ]
  },
  {
   "cell_type": "code",
   "execution_count": null,
   "id": "c7e1c6d4-4bd7-48dd-8ef5-a3b4eea71bd3",
   "metadata": {},
   "outputs": [],
   "source": [
    "Getter: A method that allows you to access an attribute in a given class.\n",
    "Setter: A method that allows you to set or mutate the value of an attribute in a class."
   ]
  },
  {
   "cell_type": "code",
   "execution_count": 22,
   "id": "30eb901b-8d41-4a18-86c8-5ee3a76462e8",
   "metadata": {},
   "outputs": [],
   "source": [
    "class Person:\n",
    "    def __init__(self, name, age):\n",
    "        self._name = name  \n",
    "        self._age = age\n",
    "\n",
    "   \n",
    "    def get_name(self):\n",
    "        return self._name\n",
    "\n",
    "   \n",
    "    def set_name(self, new_name):\n",
    "        if isinstance(new_name, str):\n",
    "            self._name = new_name\n",
    "        else:\n",
    "            print(\"Name must be a string!\")\n",
    "\n",
    "    \n",
    "    def get_age(self):\n",
    "        return self._age\n",
    "\n",
    "   \n",
    "    def set_age(self, new_age):\n",
    "        if isinstance(new_age, int) and new_age >= 0:\n",
    "            self._age = new_age\n",
    "        else:\n",
    "            print(\"Age must be a non-negative integer!\")\n",
    "\n",
    "\n",
    "person = Person(\"RITU\", 22)"
   ]
  },
  {
   "cell_type": "code",
   "execution_count": 23,
   "id": "cd754538-64a4-49f1-a9d4-04f89c49c647",
   "metadata": {},
   "outputs": [
    {
     "name": "stdout",
     "output_type": "stream",
     "text": [
      "Original name: RITU\n",
      "Updated name: AKASH\n",
      "Original age: 22\n",
      "Updated age: 20\n"
     ]
    }
   ],
   "source": [
    "print(\"Original name:\", person.get_name())\n",
    "person.set_name(\"AKASH\")\n",
    "print(\"Updated name:\", person.get_name())\n",
    "\n",
    "print(\"Original age:\", person.get_age())\n",
    "person.set_age(20)\n",
    "print(\"Updated age:\", person.get_age())"
   ]
  },
  {
   "cell_type": "code",
   "execution_count": null,
   "id": "803886e4-b057-4f17-9bc6-0a370110ac5a",
   "metadata": {},
   "outputs": [],
   "source": [
    "Q5"
   ]
  },
  {
   "cell_type": "code",
   "execution_count": null,
   "id": "b5a70f0e-53f2-4db1-9b37-b46b12bb954a",
   "metadata": {},
   "outputs": [],
   "source": [
    "Method overriding is an ability of any object-oriented programming language that allows a subclass "
   ]
  },
  {
   "cell_type": "code",
   "execution_count": 24,
   "id": "426089d7-89c0-4e83-9ab2-d800671e4c2d",
   "metadata": {},
   "outputs": [],
   "source": [
    "class Animal:\n",
    "    def speak(self):\n",
    "        return \"Animal speaks\"\n",
    "\n",
    "class Dog(Animal):\n",
    "    def speak(self):\n",
    "        return \"Dog barks\"\n",
    "\n",
    "class Cat(Animal):\n",
    "    def speak(self):\n",
    "        return \"Cat meows\"\n",
    "\n",
    "animal = Animal()\n",
    "dog = Dog()\n",
    "cat = Cat()"
   ]
  },
  {
   "cell_type": "code",
   "execution_count": 25,
   "id": "60b6a70c-bcbf-4da9-96ff-dabe73706529",
   "metadata": {},
   "outputs": [
    {
     "name": "stdout",
     "output_type": "stream",
     "text": [
      "Animal speaks\n",
      "Dog barks\n",
      "Cat meows\n"
     ]
    }
   ],
   "source": [
    "print(animal.speak())  \n",
    "print(dog.speak())     \n",
    "print(cat.speak())  "
   ]
  },
  {
   "cell_type": "code",
   "execution_count": null,
   "id": "18f50ba3-cf88-420e-a4f8-5ec32f8d6198",
   "metadata": {},
   "outputs": [],
   "source": []
  }
 ],
 "metadata": {
  "kernelspec": {
   "display_name": "Python 3 (ipykernel)",
   "language": "python",
   "name": "python3"
  },
  "language_info": {
   "codemirror_mode": {
    "name": "ipython",
    "version": 3
   },
   "file_extension": ".py",
   "mimetype": "text/x-python",
   "name": "python",
   "nbconvert_exporter": "python",
   "pygments_lexer": "ipython3",
   "version": "3.10.8"
  }
 },
 "nbformat": 4,
 "nbformat_minor": 5
}
